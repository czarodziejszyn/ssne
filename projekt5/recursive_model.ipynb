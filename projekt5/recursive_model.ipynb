{
  "nbformat": 4,
  "nbformat_minor": 0,
  "metadata": {
    "colab": {
      "provenance": [],
      "authorship_tag": "ABX9TyNRV/Z2keAXJx+GzSBi810d"
    },
    "kernelspec": {
      "name": "python3",
      "display_name": "Python 3"
    },
    "language_info": {
      "name": "python"
    }
  },
  "cells": [
    {
      "cell_type": "code",
      "execution_count": 30,
      "metadata": {
        "colab": {
          "base_uri": "https://localhost:8080/"
        },
        "id": "X-rYGabChIcA",
        "outputId": "a42a990d-4cd1-40d6-cac8-fcff48f1e701"
      },
      "outputs": [
        {
          "output_type": "stream",
          "name": "stdout",
          "text": [
            "Drive already mounted at /content/drive/; to attempt to forcibly remount, call drive.mount(\"/content/drive/\", force_remount=True).\n"
          ]
        }
      ],
      "source": [
        "from google.colab import drive\n",
        "drive.mount('/content/drive/')"
      ]
    },
    {
      "cell_type": "code",
      "source": [
        "import pickle\n",
        "train_path = '/content/drive/MyDrive/ssne-recursive/train.pkl'\n",
        "with open(train_path, 'rb') as f:\n",
        "    data = pickle.load(f)"
      ],
      "metadata": {
        "id": "erZquDmaivM8"
      },
      "execution_count": 31,
      "outputs": []
    },
    {
      "cell_type": "markdown",
      "source": [
        "`data` jest postaci: `{(array([float, float, ..., float]), int), ...}`, gdzi tablica floatów to utwór, a int to oznaczenie kompozytora"
      ],
      "metadata": {
        "id": "zIqnJJNzltTC"
      }
    },
    {
      "cell_type": "code",
      "source": [
        "print(f\"Length: {len(data)}, Type: {type(data)}\")\n",
        "print(f\"Length[0]: {len(data[0])}\")\n",
        "print(data[0])\n",
        "print(len(data[0][0]))\n",
        "print(data[0][0][0])"
      ],
      "metadata": {
        "colab": {
          "base_uri": "https://localhost:8080/"
        },
        "id": "GC24_JWAjkzB",
        "outputId": "7876599d-065e-4341-8068-c7389118a482"
      },
      "execution_count": 34,
      "outputs": [
        {
          "output_type": "stream",
          "name": "stdout",
          "text": [
            "Length: 2939, Type: <class 'list'>\n",
            "Length[0]: 2\n",
            "(array([0.        , 0.        , 0.        , ..., 0.41361257, 0.21465969,\n",
            "       0.7591623 ]), 0)\n",
            "4756\n",
            "0.0\n"
          ]
        }
      ]
    },
    {
      "cell_type": "code",
      "source": [
        "import math\n",
        "\n",
        "min_val = math.inf\n",
        "max_val = -math.inf\n",
        "\n",
        "for x in data:\n",
        "    for elt in x[0]:\n",
        "        if elt < min_val:\n",
        "            min_val = elt\n",
        "        if elt > max_val:\n",
        "            max_val = elt\n",
        "\n",
        "for i in range(len(data)):\n",
        "    for j in range(len(data[i][0])):\n",
        "        data[i][0][j] = (data[i][0][j] - min_val) / max_val"
      ],
      "metadata": {
        "id": "1CmCs2n80wVe"
      },
      "execution_count": 33,
      "outputs": []
    },
    {
      "cell_type": "code",
      "source": [
        "import torch\n",
        "from torch.utils.data import DataLoader\n",
        "from torch.nn.utils.rnn import pad_sequence"
      ],
      "metadata": {
        "id": "2WTehPz3y-Pz"
      },
      "execution_count": 38,
      "outputs": []
    },
    {
      "cell_type": "code",
      "source": [
        "train_data = [(torch.tensor(x[0]), x[1]) for x in data]"
      ],
      "metadata": {
        "id": "gjIvEqH6yp1z"
      },
      "execution_count": 36,
      "outputs": []
    },
    {
      "cell_type": "code",
      "source": [
        "def collate_fn(batch):\n",
        "    (xx, yy) = zip(*batch)\n",
        "    x_lens = [len(x) for x in xx]\n",
        "    max_length = max(x_lens)\n",
        "\n",
        "    padded_xx = [torch.cat([x, torch.zeros(max_length - len(x))]) for x in xx]\n",
        "\n",
        "    return torch.stack(padded_xx), torch.tensor(yy)"
      ],
      "metadata": {
        "id": "XPQBtVIGzjzz"
      },
      "execution_count": 39,
      "outputs": []
    },
    {
      "cell_type": "code",
      "source": [
        "train_loader = DataLoader(dataset=train_data, batch_size=32, collate_fn=collate_fn)"
      ],
      "metadata": {
        "id": "AUDRUvwa5AaF"
      },
      "execution_count": 40,
      "outputs": []
    },
    {
      "cell_type": "code",
      "source": [
        "composers = {0: 'bach', 1: 'beethoven', 2: 'debussy', 3: 'scarlatti', 4: 'victoria'}"
      ],
      "metadata": {
        "id": "dcu3jVTLlhe7"
      },
      "execution_count": 18,
      "outputs": []
    }
  ]
}