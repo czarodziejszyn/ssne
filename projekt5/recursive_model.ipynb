{
  "nbformat": 4,
  "nbformat_minor": 0,
  "metadata": {
    "colab": {
      "provenance": [],
      "gpuType": "T4",
      "authorship_tag": "ABX9TyPwDCRfqjC1AiWXNneHWYxa",
      "include_colab_link": true
    },
    "kernelspec": {
      "name": "python3",
      "display_name": "Python 3"
    },
    "language_info": {
      "name": "python"
    },
    "accelerator": "GPU"
  },
  "cells": [
    {
      "cell_type": "markdown",
      "metadata": {
        "id": "view-in-github",
        "colab_type": "text"
      },
      "source": [
        "<a href=\"https://colab.research.google.com/github/czarodziejszyn/ssne/blob/main/projekt5/recursive_model.ipynb\" target=\"_parent\"><img src=\"https://colab.research.google.com/assets/colab-badge.svg\" alt=\"Open In Colab\"/></a>"
      ]
    },
    {
      "cell_type": "code",
      "execution_count": 41,
      "metadata": {
        "colab": {
          "base_uri": "https://localhost:8080/"
        },
        "id": "dY9wWSleQJig",
        "outputId": "c754db9e-edac-47e7-f2ba-463bec4e3f74"
      },
      "outputs": [
        {
          "output_type": "stream",
          "name": "stdout",
          "text": [
            "Drive already mounted at /content/drive; to attempt to forcibly remount, call drive.mount(\"/content/drive\", force_remount=True).\n"
          ]
        }
      ],
      "source": [
        "from google.colab import drive\n",
        "drive.mount(\"/content/drive\")"
      ]
    },
    {
      "cell_type": "code",
      "source": [
        "import pickle\n",
        "import numpy as np\n",
        "import matplotlib.pyplot as plt\n",
        "from torch.utils.data import DataLoader\n",
        "import torch\n",
        "import torch.nn as nn\n",
        "from torch.nn.utils.rnn import pack_padded_sequence, pad_sequence\n",
        "import csv\n",
        "from sklearn.model_selection import train_test_split\n",
        "from tqdm import tqdm\n",
        "from collections import Counter"
      ],
      "metadata": {
        "id": "5ZXHpRijSGK9"
      },
      "execution_count": 57,
      "outputs": []
    },
    {
      "cell_type": "code",
      "source": [
        "pickle_path = \"/content/drive/MyDrive/data/train.pkl\"\n",
        "\n",
        "with open(pickle_path, 'rb') as f:\n",
        "    data = pickle.load(f)\n",
        "\n",
        "test_path = \"/content/drive/MyDrive/data/test_no_target.pkl\"\n",
        "\n",
        "with open(test_path, 'rb') as f:\n",
        "    test_data = pickle.load(f)"
      ],
      "metadata": {
        "id": "40lSfEtMRnvc"
      },
      "execution_count": 61,
      "outputs": []
    },
    {
      "cell_type": "code",
      "source": [
        "print(f\"data length: {len(data)}\")\n",
        "print(f\"element type: {type(data[0])}\")\n",
        "print(f\"song fragment: {data[0][0][:10]}\")\n",
        "print(f\"song class: {data[0][1]}\")"
      ],
      "metadata": {
        "colab": {
          "base_uri": "https://localhost:8080/"
        },
        "id": "UQndEeqGSbaD",
        "outputId": "f74645c0-6846-41dc-dc19-5d0bf701e6b6"
      },
      "execution_count": 62,
      "outputs": [
        {
          "output_type": "stream",
          "name": "stdout",
          "text": [
            "data length: 2939\n",
            "element type: <class 'tuple'>\n",
            "song fragment: [ -1.  -1.  -1.  -1. 144. 144. 144.  64.  67.   0.]\n",
            "song class: 0\n"
          ]
        }
      ]
    },
    {
      "cell_type": "code",
      "source": [
        "X, y = zip(*data)"
      ],
      "metadata": {
        "id": "K5WD1VDrTBnr"
      },
      "execution_count": 63,
      "outputs": []
    },
    {
      "cell_type": "markdown",
      "source": [
        "## Rozkład klas"
      ],
      "metadata": {
        "id": "PV0SYs4jTK9r"
      }
    },
    {
      "cell_type": "code",
      "source": [
        "class_counts = Counter(y)\n",
        "print(\"class counts:\")\n",
        "for key, value in class_counts.items():\n",
        "    print(f\"{key}: {value}\")"
      ],
      "metadata": {
        "colab": {
          "base_uri": "https://localhost:8080/"
        },
        "id": "F3HdBkW9TOAd",
        "outputId": "7d6213a2-1083-4415-a1d6-c4ae7175ad5b"
      },
      "execution_count": 64,
      "outputs": [
        {
          "output_type": "stream",
          "name": "stdout",
          "text": [
            "class counts:\n",
            "0: 1630\n",
            "1: 478\n",
            "2: 154\n",
            "3: 441\n",
            "4: 236\n"
          ]
        }
      ]
    },
    {
      "cell_type": "markdown",
      "source": [
        "## Statystyki utworów"
      ],
      "metadata": {
        "id": "ax8A7OcSTkev"
      }
    },
    {
      "cell_type": "code",
      "source": [
        "lengths = [len(song) for song in X]\n",
        "print(f\"average length: {np.mean(lengths)}\")\n",
        "print(f\"max length: {np.max(lengths)}\")\n",
        "print(f\"min length: {np.min(lengths)}\")"
      ],
      "metadata": {
        "colab": {
          "base_uri": "https://localhost:8080/"
        },
        "id": "tyInQseOTgmA",
        "outputId": "960c8d6e-652b-4a28-c44b-9508c29d8fab"
      },
      "execution_count": 65,
      "outputs": [
        {
          "output_type": "stream",
          "name": "stdout",
          "text": [
            "average length: 436.50493365090165\n",
            "max length: 6308\n",
            "min length: 4\n"
          ]
        }
      ]
    },
    {
      "cell_type": "markdown",
      "source": [
        "## Preprocessing"
      ],
      "metadata": {
        "id": "4mhv-sOLVX4X"
      }
    },
    {
      "cell_type": "code",
      "source": [
        "train_data, val_data = train_test_split(data, test_size=0.2, random_state=42)"
      ],
      "metadata": {
        "id": "-uiAc1ohVXcQ"
      },
      "execution_count": 66,
      "outputs": []
    },
    {
      "cell_type": "code",
      "source": [
        "def prepare_data(data, test=False):\n",
        "    if test:\n",
        "        sequences = [torch.tensor(seq, dtype=torch.float32) for seq in data]\n",
        "        labels = None\n",
        "    else:\n",
        "        sequences, labels = zip(*data)\n",
        "        sequences = [torch.tensor(seq, dtype=torch.float32) for seq in sequences]\n",
        "        labels = torch.tensor(labels, dtype=torch.long)\n",
        "    lengths = torch.tensor([len(seq) for seq in sequences], dtype=torch.long)\n",
        "    return sequences, labels, lengths"
      ],
      "metadata": {
        "id": "8yfyeTeBKyiu"
      },
      "execution_count": 67,
      "outputs": []
    },
    {
      "cell_type": "code",
      "source": [
        "def collate_fn(batch):\n",
        "    if isinstance(batch[0], tuple):\n",
        "        sequences, labels, lengths = zip(*batch)\n",
        "        padded = pad_sequence(sequences, batch_first=True)\n",
        "        return padded.unsqueeze(-1), torch.stack(labels), torch.stack(lengths)\n",
        "    else:\n",
        "        sequences, lengths = zip(*batch)\n",
        "        padded = pad_sequence(sequences, batch_first=True)\n",
        "        return padded.unsqueeze(-1), torch.stack(lengths)"
      ],
      "metadata": {
        "id": "A0xcWkyyIMst"
      },
      "execution_count": 68,
      "outputs": []
    },
    {
      "cell_type": "markdown",
      "source": [
        "## Dataloadery"
      ],
      "metadata": {
        "id": "ij-ijbwrXdYK"
      }
    },
    {
      "cell_type": "code",
      "source": [
        "def create_dataloader(data, batch_size, test=False):\n",
        "    if test:\n",
        "        sequences, _, lengths = prepare_data(data, test=True)\n",
        "        dataset = list(zip(sequences, lengths))\n",
        "    else:\n",
        "        sequences, labels, lengths = prepare_data(data, test=False)\n",
        "        dataset = list(zip(sequences, labels, lengths))\n",
        "    return DataLoader(dataset, batch_size=batch_size, shuffle=not test, collate_fn=collate_fn)"
      ],
      "metadata": {
        "id": "FDHM0e4IXfnd"
      },
      "execution_count": 69,
      "outputs": []
    },
    {
      "cell_type": "code",
      "source": [
        "BATCH_SIZE = 64\n",
        "train_loader = create_dataloader(train_data, BATCH_SIZE)\n",
        "val_loader = create_dataloader(val_data, BATCH_SIZE)\n",
        "test_loader = create_dataloader(test_data, BATCH_SIZE, test=True)"
      ],
      "metadata": {
        "id": "Rs4JXdmXMPsQ"
      },
      "execution_count": 70,
      "outputs": []
    },
    {
      "cell_type": "markdown",
      "source": [
        "## Model"
      ],
      "metadata": {
        "id": "zmzebdvjYiZn"
      }
    },
    {
      "cell_type": "code",
      "source": [
        "class LSTMClassifier(nn.Module):\n",
        "    def __init__(self, input_size, hidden_size, num_layers, out_size, bidirectional=False):\n",
        "        super().__init__()\n",
        "        self.hidden_size = hidden_size\n",
        "        self.num_layers = num_layers\n",
        "        self.bidirectional = bidirectional\n",
        "        self.dir_mult = 2 if bidirectional else 1\n",
        "\n",
        "        self.lstm = nn.LSTM(\n",
        "            input_size=input_size,\n",
        "            hidden_size=hidden_size,\n",
        "            num_layers=num_layers,\n",
        "            bidirectional=bidirectional,\n",
        "            batch_first=True\n",
        "        )\n",
        "        self.fc = nn.Linear(hidden_size * self.dir_mult, out_size)\n",
        "\n",
        "    def forward(self, x, lengths):\n",
        "        h0 = torch.zeros(self.num_layers * self.dir_mult, x.size(0), self.hidden_size).to(device)\n",
        "        c0 = torch.zeros(self.num_layers * self.dir_mult, x.size(0), self.hidden_size).to(device)\n",
        "        x_packed = pack_padded_sequence(x, lengths.cpu(), batch_first=True, enforce_sorted=False)\n",
        "        packed_output, (hn, cn) = self.lstm(x_packed, (h0, c0))\n",
        "        if self.bidirectional:\n",
        "            last_hidden = torch.cat((hn[-2], hn[-1]), dim=1)\n",
        "        else:\n",
        "            last_hidden = hn[-1]\n",
        "        out = self.fc(last_hidden)\n",
        "        return out"
      ],
      "metadata": {
        "id": "YhqHQD2iIDuh"
      },
      "execution_count": 77,
      "outputs": []
    },
    {
      "cell_type": "markdown",
      "source": [
        "## Trening"
      ],
      "metadata": {
        "id": "ReHZTNs_ZqZJ"
      }
    },
    {
      "cell_type": "code",
      "source": [
        "device = torch.device(\"cuda\" if torch.cuda.is_available() else \"cpu\")\n",
        "device"
      ],
      "metadata": {
        "colab": {
          "base_uri": "https://localhost:8080/"
        },
        "id": "LG2VjEFkMk1W",
        "outputId": "57286151-180f-4c07-bedc-035a021ca28e"
      },
      "execution_count": 78,
      "outputs": [
        {
          "output_type": "execute_result",
          "data": {
            "text/plain": [
              "device(type='cuda')"
            ]
          },
          "metadata": {},
          "execution_count": 78
        }
      ]
    },
    {
      "cell_type": "code",
      "source": [
        "def evaluate(model, loader):\n",
        "    model.eval()\n",
        "    correct, total = 0, 0\n",
        "    with torch.no_grad():\n",
        "        for x, y, lengths in loader:\n",
        "            x, y, lengths = x.to(device), y.to(device), lengths.to(device)\n",
        "            outputs = model(x, lengths)\n",
        "            preds = torch.argmax(outputs, dim=1)\n",
        "            correct += (preds == y).sum().item()\n",
        "            total += y.size(0)\n",
        "    return correct / total"
      ],
      "metadata": {
        "id": "kvv8mp_4MirB"
      },
      "execution_count": 79,
      "outputs": []
    },
    {
      "cell_type": "code",
      "source": [
        "def train(model, train_loader, val_loader, epochs=10):\n",
        "    optimizer = torch.optim.Adam(model.parameters(), lr=0.001)\n",
        "    loss_fn = nn.CrossEntropyLoss()\n",
        "    for epoch in range(1, epochs + 1):\n",
        "        model.train()\n",
        "        total_loss = 0\n",
        "        for x, y, lengths in tqdm(train_loader, desc=f\"Epoch {epoch}\"):\n",
        "            x, y, lengths = x.to(device), y.to(device), lengths.to(device)\n",
        "            optimizer.zero_grad()\n",
        "            outputs = model(x, lengths)\n",
        "            loss = loss_fn(outputs, y)\n",
        "            loss.backward()\n",
        "            optimizer.step()\n",
        "            total_loss += loss.item()\n",
        "        val_acc = evaluate(model, val_loader)\n",
        "        print(f\"Epoch {epoch}, Loss: {total_loss:.4f}, Val Accuracy: {val_acc:.4f}\")\n",
        "    torch.save(model.state_dict(), \"lstm_classifier.pt\")"
      ],
      "metadata": {
        "id": "KrW4PbkEMqYX"
      },
      "execution_count": 80,
      "outputs": []
    },
    {
      "cell_type": "code",
      "source": [
        "def generate_predictions(model, test_loader, output_file=\"predictions.csv\"):\n",
        "    model.eval()\n",
        "    predictions = []\n",
        "    with torch.no_grad():\n",
        "        for x, lengths in test_loader:\n",
        "            x, lengths = x.to(device), lengths.to(device)\n",
        "            outputs = model(x, lengths)\n",
        "            preds = torch.argmax(outputs, dim=1).cpu().numpy()\n",
        "            predictions.extend(preds)\n",
        "    with open(output_file, \"w\", newline=\"\") as f:\n",
        "        writer = csv.writer(f)\n",
        "        for pred in predictions:\n",
        "            writer.writerow([pred])\n",
        "    print(f\"Predictions saved to {output_file}\")"
      ],
      "metadata": {
        "id": "4waEwR7tMseD"
      },
      "execution_count": 81,
      "outputs": []
    },
    {
      "cell_type": "code",
      "source": [
        "model = LSTMClassifier(input_size=1, hidden_size=128, num_layers=2, out_size=5, bidirectional=True).to(device)\n",
        "train(model, train_loader, val_loader, epochs=100)\n",
        "generate_predictions(model, test_loader)"
      ],
      "metadata": {
        "colab": {
          "base_uri": "https://localhost:8080/"
        },
        "id": "3PyaAheDMubi",
        "outputId": "75be3801-e4e8-45e1-f932-95ca9417779c"
      },
      "execution_count": null,
      "outputs": [
        {
          "output_type": "stream",
          "name": "stderr",
          "text": [
            "Epoch 1: 100%|██████████| 37/37 [00:10<00:00,  3.44it/s]\n"
          ]
        },
        {
          "output_type": "stream",
          "name": "stdout",
          "text": [
            "Epoch 1, Loss: 45.5369, Val Accuracy: 0.5680\n"
          ]
        },
        {
          "output_type": "stream",
          "name": "stderr",
          "text": [
            "Epoch 2: 100%|██████████| 37/37 [00:11<00:00,  3.33it/s]\n"
          ]
        },
        {
          "output_type": "stream",
          "name": "stdout",
          "text": [
            "Epoch 2, Loss: 40.3167, Val Accuracy: 0.6003\n"
          ]
        },
        {
          "output_type": "stream",
          "name": "stderr",
          "text": [
            "Epoch 3: 100%|██████████| 37/37 [00:11<00:00,  3.35it/s]\n"
          ]
        },
        {
          "output_type": "stream",
          "name": "stdout",
          "text": [
            "Epoch 3, Loss: 36.6782, Val Accuracy: 0.6565\n"
          ]
        },
        {
          "output_type": "stream",
          "name": "stderr",
          "text": [
            "Epoch 4: 100%|██████████| 37/37 [00:11<00:00,  3.35it/s]\n"
          ]
        },
        {
          "output_type": "stream",
          "name": "stdout",
          "text": [
            "Epoch 4, Loss: 34.6711, Val Accuracy: 0.6752\n"
          ]
        },
        {
          "output_type": "stream",
          "name": "stderr",
          "text": [
            "Epoch 5: 100%|██████████| 37/37 [00:11<00:00,  3.32it/s]\n"
          ]
        },
        {
          "output_type": "stream",
          "name": "stdout",
          "text": [
            "Epoch 5, Loss: 33.0453, Val Accuracy: 0.6599\n"
          ]
        },
        {
          "output_type": "stream",
          "name": "stderr",
          "text": [
            "Epoch 6: 100%|██████████| 37/37 [00:11<00:00,  3.29it/s]\n"
          ]
        },
        {
          "output_type": "stream",
          "name": "stdout",
          "text": [
            "Epoch 6, Loss: 31.0884, Val Accuracy: 0.7007\n"
          ]
        },
        {
          "output_type": "stream",
          "name": "stderr",
          "text": [
            "Epoch 7: 100%|██████████| 37/37 [00:11<00:00,  3.29it/s]\n"
          ]
        },
        {
          "output_type": "stream",
          "name": "stdout",
          "text": [
            "Epoch 7, Loss: 30.3786, Val Accuracy: 0.7007\n"
          ]
        },
        {
          "output_type": "stream",
          "name": "stderr",
          "text": [
            "Epoch 8: 100%|██████████| 37/37 [00:10<00:00,  3.53it/s]\n"
          ]
        },
        {
          "output_type": "stream",
          "name": "stdout",
          "text": [
            "Epoch 8, Loss: 29.2521, Val Accuracy: 0.7126\n"
          ]
        },
        {
          "output_type": "stream",
          "name": "stderr",
          "text": [
            "Epoch 9: 100%|██████████| 37/37 [00:10<00:00,  3.49it/s]\n"
          ]
        },
        {
          "output_type": "stream",
          "name": "stdout",
          "text": [
            "Epoch 9, Loss: 27.3089, Val Accuracy: 0.6735\n"
          ]
        },
        {
          "output_type": "stream",
          "name": "stderr",
          "text": [
            "Epoch 10: 100%|██████████| 37/37 [00:10<00:00,  3.57it/s]\n"
          ]
        },
        {
          "output_type": "stream",
          "name": "stdout",
          "text": [
            "Epoch 10, Loss: 27.4496, Val Accuracy: 0.7364\n"
          ]
        },
        {
          "output_type": "stream",
          "name": "stderr",
          "text": [
            "Epoch 11: 100%|██████████| 37/37 [00:11<00:00,  3.32it/s]\n"
          ]
        },
        {
          "output_type": "stream",
          "name": "stdout",
          "text": [
            "Epoch 11, Loss: 26.0200, Val Accuracy: 0.7024\n"
          ]
        },
        {
          "output_type": "stream",
          "name": "stderr",
          "text": [
            "Epoch 12: 100%|██████████| 37/37 [00:11<00:00,  3.29it/s]\n"
          ]
        },
        {
          "output_type": "stream",
          "name": "stdout",
          "text": [
            "Epoch 12, Loss: 26.0793, Val Accuracy: 0.6990\n"
          ]
        },
        {
          "output_type": "stream",
          "name": "stderr",
          "text": [
            "Epoch 13: 100%|██████████| 37/37 [00:11<00:00,  3.29it/s]\n"
          ]
        },
        {
          "output_type": "stream",
          "name": "stdout",
          "text": [
            "Epoch 13, Loss: 26.4850, Val Accuracy: 0.6922\n"
          ]
        },
        {
          "output_type": "stream",
          "name": "stderr",
          "text": [
            "Epoch 14: 100%|██████████| 37/37 [00:11<00:00,  3.25it/s]\n"
          ]
        },
        {
          "output_type": "stream",
          "name": "stdout",
          "text": [
            "Epoch 14, Loss: 23.7857, Val Accuracy: 0.7415\n"
          ]
        },
        {
          "output_type": "stream",
          "name": "stderr",
          "text": [
            "Epoch 15: 100%|██████████| 37/37 [00:10<00:00,  3.40it/s]\n"
          ]
        },
        {
          "output_type": "stream",
          "name": "stdout",
          "text": [
            "Epoch 15, Loss: 22.5830, Val Accuracy: 0.7381\n"
          ]
        },
        {
          "output_type": "stream",
          "name": "stderr",
          "text": [
            "Epoch 16: 100%|██████████| 37/37 [00:11<00:00,  3.35it/s]\n"
          ]
        },
        {
          "output_type": "stream",
          "name": "stdout",
          "text": [
            "Epoch 16, Loss: 21.7266, Val Accuracy: 0.7483\n"
          ]
        },
        {
          "output_type": "stream",
          "name": "stderr",
          "text": [
            "Epoch 17: 100%|██████████| 37/37 [00:11<00:00,  3.09it/s]\n"
          ]
        },
        {
          "output_type": "stream",
          "name": "stdout",
          "text": [
            "Epoch 17, Loss: 22.3726, Val Accuracy: 0.7296\n"
          ]
        },
        {
          "output_type": "stream",
          "name": "stderr",
          "text": [
            "Epoch 18: 100%|██████████| 37/37 [00:12<00:00,  3.06it/s]\n"
          ]
        },
        {
          "output_type": "stream",
          "name": "stdout",
          "text": [
            "Epoch 18, Loss: 20.0523, Val Accuracy: 0.7636\n"
          ]
        },
        {
          "output_type": "stream",
          "name": "stderr",
          "text": [
            "Epoch 19: 100%|██████████| 37/37 [00:11<00:00,  3.18it/s]\n"
          ]
        },
        {
          "output_type": "stream",
          "name": "stdout",
          "text": [
            "Epoch 19, Loss: 18.7747, Val Accuracy: 0.7551\n"
          ]
        },
        {
          "output_type": "stream",
          "name": "stderr",
          "text": [
            "Epoch 20: 100%|██████████| 37/37 [00:11<00:00,  3.28it/s]\n"
          ]
        },
        {
          "output_type": "stream",
          "name": "stdout",
          "text": [
            "Epoch 20, Loss: 18.5170, Val Accuracy: 0.7364\n"
          ]
        },
        {
          "output_type": "stream",
          "name": "stderr",
          "text": [
            "Epoch 21: 100%|██████████| 37/37 [00:11<00:00,  3.28it/s]\n"
          ]
        },
        {
          "output_type": "stream",
          "name": "stdout",
          "text": [
            "Epoch 21, Loss: 18.3670, Val Accuracy: 0.7398\n"
          ]
        },
        {
          "output_type": "stream",
          "name": "stderr",
          "text": [
            "Epoch 22: 100%|██████████| 37/37 [00:11<00:00,  3.30it/s]\n"
          ]
        },
        {
          "output_type": "stream",
          "name": "stdout",
          "text": [
            "Epoch 22, Loss: 17.0652, Val Accuracy: 0.7500\n"
          ]
        },
        {
          "output_type": "stream",
          "name": "stderr",
          "text": [
            "Epoch 23: 100%|██████████| 37/37 [00:11<00:00,  3.33it/s]\n"
          ]
        },
        {
          "output_type": "stream",
          "name": "stdout",
          "text": [
            "Epoch 23, Loss: 15.7180, Val Accuracy: 0.7534\n"
          ]
        },
        {
          "output_type": "stream",
          "name": "stderr",
          "text": [
            "Epoch 24: 100%|██████████| 37/37 [00:11<00:00,  3.23it/s]\n"
          ]
        },
        {
          "output_type": "stream",
          "name": "stdout",
          "text": [
            "Epoch 24, Loss: 14.2454, Val Accuracy: 0.7568\n"
          ]
        },
        {
          "output_type": "stream",
          "name": "stderr",
          "text": [
            "Epoch 25: 100%|██████████| 37/37 [00:10<00:00,  3.41it/s]\n"
          ]
        },
        {
          "output_type": "stream",
          "name": "stdout",
          "text": [
            "Epoch 25, Loss: 13.0679, Val Accuracy: 0.7534\n"
          ]
        },
        {
          "output_type": "stream",
          "name": "stderr",
          "text": [
            "Epoch 26: 100%|██████████| 37/37 [00:11<00:00,  3.32it/s]\n"
          ]
        },
        {
          "output_type": "stream",
          "name": "stdout",
          "text": [
            "Epoch 26, Loss: 12.7049, Val Accuracy: 0.7313\n"
          ]
        },
        {
          "output_type": "stream",
          "name": "stderr",
          "text": [
            "Epoch 27: 100%|██████████| 37/37 [00:11<00:00,  3.18it/s]\n"
          ]
        },
        {
          "output_type": "stream",
          "name": "stdout",
          "text": [
            "Epoch 27, Loss: 11.8936, Val Accuracy: 0.7602\n"
          ]
        },
        {
          "output_type": "stream",
          "name": "stderr",
          "text": [
            "Epoch 28: 100%|██████████| 37/37 [00:11<00:00,  3.23it/s]\n"
          ]
        },
        {
          "output_type": "stream",
          "name": "stdout",
          "text": [
            "Epoch 28, Loss: 10.4226, Val Accuracy: 0.7636\n"
          ]
        },
        {
          "output_type": "stream",
          "name": "stderr",
          "text": [
            "Epoch 29: 100%|██████████| 37/37 [00:11<00:00,  3.25it/s]\n"
          ]
        },
        {
          "output_type": "stream",
          "name": "stdout",
          "text": [
            "Epoch 29, Loss: 9.0765, Val Accuracy: 0.7585\n"
          ]
        },
        {
          "output_type": "stream",
          "name": "stderr",
          "text": [
            "Epoch 30: 100%|██████████| 37/37 [00:11<00:00,  3.28it/s]\n"
          ]
        },
        {
          "output_type": "stream",
          "name": "stdout",
          "text": [
            "Epoch 30, Loss: 9.1369, Val Accuracy: 0.7738\n"
          ]
        },
        {
          "output_type": "stream",
          "name": "stderr",
          "text": [
            "Epoch 31: 100%|██████████| 37/37 [00:11<00:00,  3.25it/s]\n"
          ]
        },
        {
          "output_type": "stream",
          "name": "stdout",
          "text": [
            "Epoch 31, Loss: 8.2945, Val Accuracy: 0.7619\n"
          ]
        },
        {
          "output_type": "stream",
          "name": "stderr",
          "text": [
            "Epoch 32: 100%|██████████| 37/37 [00:11<00:00,  3.30it/s]\n"
          ]
        },
        {
          "output_type": "stream",
          "name": "stdout",
          "text": [
            "Epoch 32, Loss: 7.7096, Val Accuracy: 0.7585\n"
          ]
        },
        {
          "output_type": "stream",
          "name": "stderr",
          "text": [
            "Epoch 33: 100%|██████████| 37/37 [00:11<00:00,  3.26it/s]\n"
          ]
        }
      ]
    }
  ]
}