{
  "nbformat": 4,
  "nbformat_minor": 0,
  "metadata": {
    "colab": {
      "provenance": [],
      "gpuType": "T4",
      "authorship_tag": "ABX9TyPqrnQZRYNqTltmLm6oOk5z",
      "include_colab_link": true
    },
    "kernelspec": {
      "name": "python3",
      "display_name": "Python 3"
    },
    "language_info": {
      "name": "python"
    },
    "accelerator": "GPU"
  },
  "cells": [
    {
      "cell_type": "markdown",
      "metadata": {
        "id": "view-in-github",
        "colab_type": "text"
      },
      "source": [
        "<a href=\"https://colab.research.google.com/github/czarodziejszyn/ssne/blob/main/projekt5/recursive_model.ipynb\" target=\"_parent\"><img src=\"https://colab.research.google.com/assets/colab-badge.svg\" alt=\"Open In Colab\"/></a>"
      ]
    },
    {
      "cell_type": "code",
      "execution_count": 16,
      "metadata": {
        "colab": {
          "base_uri": "https://localhost:8080/"
        },
        "id": "X-rYGabChIcA",
        "outputId": "48b368aa-b624-445e-8fc4-471948dad922"
      },
      "outputs": [
        {
          "output_type": "stream",
          "name": "stdout",
          "text": [
            "Drive already mounted at /content/drive/; to attempt to forcibly remount, call drive.mount(\"/content/drive/\", force_remount=True).\n"
          ]
        }
      ],
      "source": [
        "from google.colab import drive\n",
        "drive.mount('/content/drive/')"
      ]
    },
    {
      "cell_type": "code",
      "source": [
        "import pickle\n",
        "train_path = '/content/drive/MyDrive/ssne-recursive/train.pkl'\n",
        "with open(train_path, 'rb') as f:\n",
        "    data = pickle.load(f)"
      ],
      "metadata": {
        "id": "erZquDmaivM8"
      },
      "execution_count": 17,
      "outputs": []
    },
    {
      "cell_type": "markdown",
      "source": [
        "`data` jest postaci: `{(array([float, float, ..., float]), int), ...}`, gdzi tablica floatów to utwór, a int to oznaczenie kompozytora"
      ],
      "metadata": {
        "id": "zIqnJJNzltTC"
      }
    },
    {
      "cell_type": "code",
      "source": [
        "print(f\"Length: {len(data)}, Type: {type(data)}\")\n",
        "print(f\"Length[0]: {len(data[0])}\")\n",
        "print(data[0])\n",
        "print(len(data[0][0]))\n",
        "print(data[0][0][0])"
      ],
      "metadata": {
        "colab": {
          "base_uri": "https://localhost:8080/"
        },
        "id": "GC24_JWAjkzB",
        "outputId": "f5071406-c01f-46c2-fc32-7aaf929f664f"
      },
      "execution_count": 18,
      "outputs": [
        {
          "output_type": "stream",
          "name": "stdout",
          "text": [
            "Length: 2939, Type: <class 'list'>\n",
            "Length[0]: 2\n",
            "(array([ -1.,  -1.,  -1., ...,  78.,  40., 144.]), 0)\n",
            "4756\n",
            "-1.0\n"
          ]
        }
      ]
    },
    {
      "cell_type": "code",
      "source": [
        "import torch\n",
        "from torch.utils.data import DataLoader\n",
        "from torch.nn.utils.rnn import pad_sequence\n",
        "import torch.nn as nn\n",
        "import numpy as np"
      ],
      "metadata": {
        "id": "2WTehPz3y-Pz"
      },
      "execution_count": 19,
      "outputs": []
    },
    {
      "cell_type": "code",
      "source": [
        "BATCH_SIZE = 32\n",
        "INPUT_SIZE = 1\n",
        "NUM_LAYERS = 1\n",
        "HIDDEN_SIZE = 5\n",
        "NUM_CLASSES = 5"
      ],
      "metadata": {
        "id": "glC17UTKI40g"
      },
      "execution_count": 20,
      "outputs": []
    },
    {
      "cell_type": "code",
      "source": [
        "import math\n",
        "\n",
        "min_val = math.inf\n",
        "max_val = -math.inf\n",
        "\n",
        "for x in data:\n",
        "    for elt in x[0]:\n",
        "        if elt < min_val:\n",
        "            min_val = elt\n",
        "        if elt > max_val:\n",
        "            max_val = elt\n",
        "\n",
        "for i in range(len(data)):\n",
        "    for j in range(len(data[i][0])):\n",
        "        data[i][0][j] = np.float32((data[i][0][j] - min_val) / max_val)"
      ],
      "metadata": {
        "id": "1CmCs2n80wVe"
      },
      "execution_count": 21,
      "outputs": []
    },
    {
      "cell_type": "code",
      "source": [
        "from sklearn.model_selection import train_test_split\n",
        "\n",
        "tensor_data = [(torch.tensor(x[0], dtype=torch.float32), x[1]) for x in data]\n",
        "train_data, test_data = train_test_split(tensor_data, test_size=0.2, random_state=42)"
      ],
      "metadata": {
        "id": "gjIvEqH6yp1z"
      },
      "execution_count": 22,
      "outputs": []
    },
    {
      "cell_type": "code",
      "source": [
        "def collate_fn(batch):\n",
        "    (xx, yy) = zip(*batch)\n",
        "    x_lens = [len(x) for x in xx]\n",
        "    max_length = max(x_lens)\n",
        "\n",
        "    padded_xx = [torch.cat([x, torch.zeros(max_length - len(x))]) for x in xx]\n",
        "\n",
        "    return torch.stack(padded_xx), torch.tensor(yy)"
      ],
      "metadata": {
        "id": "XPQBtVIGzjzz"
      },
      "execution_count": 23,
      "outputs": []
    },
    {
      "cell_type": "code",
      "source": [
        "train_loader = DataLoader(dataset=train_data, batch_size=BATCH_SIZE, collate_fn=collate_fn)\n",
        "test_loader = DataLoader(dataset=test_data, batch_size=BATCH_SIZE, collate_fn=collate_fn)"
      ],
      "metadata": {
        "id": "AUDRUvwa5AaF"
      },
      "execution_count": 24,
      "outputs": []
    },
    {
      "cell_type": "code",
      "source": [
        "composers = {0: 'bach', 1: 'beethoven', 2: 'debussy', 3: 'scarlatti', 4: 'victoria'}"
      ],
      "metadata": {
        "id": "dcu3jVTLlhe7"
      },
      "execution_count": 25,
      "outputs": []
    },
    {
      "cell_type": "code",
      "source": [
        "class RNNClassifier(nn.Module):\n",
        "    def __init__(self, input_size, hidden_size, num_layers, out_size, dropout=0.3):\n",
        "        super().__init__()\n",
        "        self.num_layers = num_layers\n",
        "        self.hidden_size = hidden_size\n",
        "        self.bidirectional = True\n",
        "        self.num_directions = 2 if self.bidirectional else 1\n",
        "\n",
        "        self.rnn = nn.LSTM(\n",
        "            input_size=input_size,\n",
        "            hidden_size=hidden_size,\n",
        "            num_layers=num_layers,\n",
        "            batch_first=False,\n",
        "            dropout=dropout,\n",
        "            bidirectional=self.bidirectional\n",
        "        )\n",
        "\n",
        "        self.layer_norm = nn.LayerNorm(hidden_size * self.num_directions)\n",
        "        self.dropout = nn.Dropout(dropout)\n",
        "        self.fc = nn.Linear(hidden_size * self.num_directions, out_size)\n",
        "\n",
        "    def init_hidden(self, batch_size):\n",
        "        h0 = torch.zeros(self.num_layers * self.num_directions, batch_size, self.hidden_size)\n",
        "        c0 = torch.zeros(self.num_layers * self.num_directions, batch_size, self.hidden_size)\n",
        "        return (c0, h0)\n",
        "\n",
        "    def forward(self, x, hidden):\n",
        "        rnn_out, hidden = self.rnn(x, hidden)\n",
        "        last_time_step = rnn_out[-1]\n",
        "        normed = self.layer_norm(last_time_step)\n",
        "        dropped = self.dropout(normed)\n",
        "        out = self.fc(dropped)\n",
        "        return out, hidden"
      ],
      "metadata": {
        "id": "bxAadnAfEsIe"
      },
      "execution_count": 26,
      "outputs": []
    },
    {
      "cell_type": "code",
      "source": [
        "device = torch.device(\"cuda\" if torch.cuda.is_available() else \"cpu\")\n",
        "print(device)\n",
        "\n",
        "model = RNNClassifier(INPUT_SIZE, HIDDEN_SIZE, NUM_LAYERS, NUM_CLASSES).to(device)\n",
        "model"
      ],
      "metadata": {
        "id": "h8e0llb6HZaF",
        "colab": {
          "base_uri": "https://localhost:8080/"
        },
        "outputId": "9fa7b8e3-87a7-474a-87f5-8b44fe36b626"
      },
      "execution_count": 27,
      "outputs": [
        {
          "output_type": "stream",
          "name": "stdout",
          "text": [
            "cuda\n"
          ]
        },
        {
          "output_type": "stream",
          "name": "stderr",
          "text": [
            "/usr/local/lib/python3.11/dist-packages/torch/nn/modules/rnn.py:123: UserWarning: dropout option adds dropout after all but last recurrent layer, so non-zero dropout expects num_layers greater than 1, but got dropout=0.3 and num_layers=1\n",
            "  warnings.warn(\n"
          ]
        },
        {
          "output_type": "execute_result",
          "data": {
            "text/plain": [
              "RNNClassifier(\n",
              "  (rnn): LSTM(1, 5, dropout=0.3, bidirectional=True)\n",
              "  (layer_norm): LayerNorm((10,), eps=1e-05, elementwise_affine=True)\n",
              "  (dropout): Dropout(p=0.3, inplace=False)\n",
              "  (fc): Linear(in_features=10, out_features=5, bias=True)\n",
              ")"
            ]
          },
          "metadata": {},
          "execution_count": 27
        }
      ]
    },
    {
      "cell_type": "code",
      "source": [
        "optimizer = torch.optim.Adam(model.parameters(), lr=0.001)\n",
        "loss_fun = nn.CrossEntropyLoss()\n",
        "\n",
        "for epoch in range(101):\n",
        "    model.train()\n",
        "    total_loss = 0\n",
        "\n",
        "    for x, targets in train_loader:\n",
        "        x = x.to(device).unsqueeze(2)  # Shape: (batch_size, seq_len, 1) => Transpose next\n",
        "        x = x.transpose(0, 1)  # Shape: (seq_len, batch_size, input_size)\n",
        "        targets = targets.to(device).long()\n",
        "\n",
        "        hidden = model.init_hidden(x.size(1))  # batch_size = x.size(1)\n",
        "        hidden = tuple(h.to(device) for h in hidden)\n",
        "\n",
        "        preds, _ = model(x, hidden)\n",
        "\n",
        "        optimizer.zero_grad()\n",
        "        loss = loss_fun(preds, targets)\n",
        "        loss.backward()\n",
        "\n",
        "        # Clip gradients to prevent exploding gradients\n",
        "        torch.nn.utils.clip_grad_norm_(model.parameters(), max_norm=1.0)\n",
        "\n",
        "        optimizer.step()\n",
        "        total_loss += loss.item()\n",
        "\n",
        "    if epoch % 10 == 0:\n",
        "        print(f\"Epoch: {epoch}, Loss: {total_loss / len(train_loader):.4f}\")\n"
      ],
      "metadata": {
        "colab": {
          "base_uri": "https://localhost:8080/"
        },
        "id": "zZPfn5qxNS78",
        "outputId": "8f14c442-dbf9-4adb-e716-b7785de8d7c9"
      },
      "execution_count": 28,
      "outputs": [
        {
          "output_type": "stream",
          "name": "stdout",
          "text": [
            "Epoch: 0, Loss: 1.4641\n",
            "Epoch: 10, Loss: 1.2981\n",
            "Epoch: 20, Loss: 1.2608\n",
            "Epoch: 30, Loss: 1.2918\n",
            "Epoch: 40, Loss: 1.2699\n",
            "Epoch: 50, Loss: 1.2588\n",
            "Epoch: 60, Loss: 1.2710\n",
            "Epoch: 70, Loss: 1.2660\n",
            "Epoch: 80, Loss: 1.2521\n",
            "Epoch: 90, Loss: 1.2663\n",
            "Epoch: 100, Loss: 1.2516\n"
          ]
        }
      ]
    },
    {
      "cell_type": "code",
      "source": [
        "import matplotlib.pyplot as plt\n",
        "\n",
        "def evaluate(model, test_loader, loss_fun, device):\n",
        "    model.eval()\n",
        "    total_correct = 0\n",
        "    total_samples = 0\n",
        "    loss_values = []\n",
        "\n",
        "    with torch.no_grad():\n",
        "        for x, targets in test_loader:\n",
        "            x = x.to(device).unsqueeze(2)\n",
        "            x = x.transpose(0, 1)\n",
        "            targets = targets.to(device)\n",
        "\n",
        "            hidden = model.init_hidden(x.size(1))\n",
        "            hidden = tuple(h.to(device) for h in hidden)\n",
        "\n",
        "            preds, _ = model(x, hidden)\n",
        "\n",
        "            loss = loss_fun(preds, targets)\n",
        "            loss_values.append(loss.item())\n",
        "\n",
        "            _, predicted = torch.max(preds, dim=1)\n",
        "            total_correct += (predicted == targets).sum().item()\n",
        "            total_samples += targets.size(0)\n",
        "\n",
        "    accuracy = total_correct / total_samples * 100\n",
        "    avg_loss = sum(loss_values) / len(loss_values)\n",
        "\n",
        "    print(f\"Test Accuracy: {accuracy:.2f}%, Test Loss: {avg_loss:.3f}\")\n",
        "    return loss_values, accuracy\n",
        "\n",
        "loss_values, test_accuracy = evaluate(model, test_loader, loss_fun, device)\n",
        "\n",
        "epochs = list(range(1, len(loss_values) + 1))\n",
        "\n",
        "plt.figure(figsize=(8, 5))\n",
        "plt.plot(epochs, loss_values, label=\"Test Loss\", color=\"red\")\n",
        "plt.xlabel(\"Batch Number\")\n",
        "plt.ylabel(\"Loss Value\")\n",
        "plt.title(\"Test Loss Over Batches\")\n",
        "plt.legend()\n",
        "plt.grid()\n",
        "plt.show()"
      ],
      "metadata": {
        "colab": {
          "base_uri": "https://localhost:8080/",
          "height": 506
        },
        "id": "oFTJSnL9OWcH",
        "outputId": "fbc11895-4366-4c70-80ac-427ba418d8d8"
      },
      "execution_count": 33,
      "outputs": [
        {
          "output_type": "stream",
          "name": "stdout",
          "text": [
            "Test Accuracy: 57.82%, Test Loss: 1.223\n"
          ]
        },
        {
          "output_type": "display_data",
          "data": {
            "text/plain": [
              "<Figure size 800x500 with 1 Axes>"
            ],
            "image/png": "[encoded data removed]"
          },
          "metadata": {}
        }
      ]
    }
  ]
}