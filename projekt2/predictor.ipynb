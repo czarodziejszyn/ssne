{
  "nbformat": 4,
  "nbformat_minor": 0,
  "metadata": {
    "colab": {
      "provenance": [],
      "authorship_tag": "ABX9TyMyf0lECWUqiimbSX1W3FJT",
      "include_colab_link": true
    },
    "kernelspec": {
      "name": "python3",
      "display_name": "Python 3"
    },
    "language_info": {
      "name": "python"
    }
  },
  "cells": [
    {
      "cell_type": "markdown",
      "metadata": {
        "id": "view-in-github",
        "colab_type": "text"
      },
      "source": [
        "<a href=\"https://colab.research.google.com/github/czarodziejszyn/ssne/blob/main/projekt2/predictor.ipynb\" target=\"_parent\"><img src=\"https://colab.research.google.com/assets/colab-badge.svg\" alt=\"Open In Colab\"/></a>"
      ]
    },
    {
      "cell_type": "code",
      "source": [
        "import torch\n",
        "import torch.nn as nn\n",
        "import pandas as pd\n",
        "import torch.utils.data as data\n",
        "from sklearn.preprocessing import LabelEncoder\n",
        "from sklearn.model_selection import train_test_split\n",
        "import matplotlib.pyplot as plt"
      ],
      "metadata": {
        "id": "nXUnBMUivO8a"
      },
      "execution_count": 2,
      "outputs": []
    },
    {
      "cell_type": "code",
      "source": [
        "def assign_interval(value):\n",
        "    if value <= 100000:\n",
        "        return 0\n",
        "    elif value <= 350000:\n",
        "        return 1\n",
        "    else:\n",
        "        return 2"
      ],
      "metadata": {
        "id": "zD4kxDvivSRJ"
      },
      "execution_count": 3,
      "outputs": []
    },
    {
      "cell_type": "code",
      "source": [
        "class MNISTClassifier_Dropout(nn.Module):\n",
        "    def __init__(self):\n",
        "        super(MNISTClassifier_Dropout, self).__init__()\n",
        "        self.layer1 = nn.Linear(23, 64)\n",
        "        self.bn1 = nn.BatchNorm1d(64)\n",
        "        self.act1 = nn.ReLU()\n",
        "        self.dropout1 = nn.Dropout(0.4)\n",
        "\n",
        "        self.layer2 = nn.Linear(64, 64)\n",
        "        self.bn2 = nn.BatchNorm1d(64)\n",
        "        self.act2 = nn.ReLU()\n",
        "        self.dropout2 = nn.Dropout(0.4)\n",
        "\n",
        "        self.layer3 = nn.Linear(64, 3)\n",
        "\n",
        "    def forward(self, x):\n",
        "        x = self.act1(self.bn1(self.layer1(x)))\n",
        "        x = self.dropout1(x)\n",
        "        x = self.act2(self.bn2(self.layer2(x)))\n",
        "        x = self.dropout2(x)\n",
        "        x = self.layer3(x)\n",
        "        return x"
      ],
      "metadata": {
        "id": "PO5SBcbZvU3f"
      },
      "execution_count": 4,
      "outputs": []
    },
    {
      "cell_type": "code",
      "source": [
        "train_data = pd.read_csv('train_data.csv')\n",
        "\n",
        "le = LabelEncoder()\n",
        "train_data['TimeToBusStop'] = le.fit_transform(train_data['TimeToBusStop'])\n",
        "train_data['TimeToSubway'] = le.fit_transform(train_data['TimeToSubway'])\n",
        "\n",
        "ohe_cols = ['HallwayType', 'HeatingType', 'AptManageType', 'SubwayStation']\n",
        "train_data = pd.get_dummies(train_data, columns=ohe_cols, drop_first=True).astype(float)\n",
        "\n",
        "train_data['SalePrice'] = train_data['SalePrice'].apply(assign_interval)"
      ],
      "metadata": {
        "id": "Ei5TIYH0vY-O"
      },
      "execution_count": 5,
      "outputs": []
    },
    {
      "cell_type": "code",
      "source": [
        "X = train_data.drop('SalePrice', axis=1).values\n",
        "y = train_data['SalePrice'].values\n",
        "\n",
        "from sklearn.preprocessing import StandardScaler\n",
        "scaler = StandardScaler()\n",
        "X_scaled = scaler.fit_transform(X)\n",
        "\n",
        "dataset = data.TensorDataset(torch.tensor(X_scaled).float(), torch.tensor(y).long())"
      ],
      "metadata": {
        "id": "09bMygXiviSW"
      },
      "execution_count": 6,
      "outputs": []
    },
    {
      "cell_type": "code",
      "source": [
        "train_indices, test_indices = train_test_split(list(range(len(dataset))), test_size=0.2, random_state=42)\n",
        "train_dataset = data.Subset(dataset, train_indices)\n",
        "test_dataset = data.Subset(dataset, test_indices)\n",
        "\n",
        "train_labels = torch.tensor(y[train_indices]).long()\n",
        "class_counts = torch.bincount(train_labels)\n",
        "class_weights = 1.0 / class_counts.float()\n",
        "\n",
        "class_weights = class_weights / class_weights.sum()\n",
        "sampler = data.WeightedRandomSampler(weights=class_weights[train_labels], num_samples=len(train_labels), replacement=True)\n",
        "\n",
        "train_loader = data.DataLoader(train_dataset, batch_size=32, sampler=sampler)\n",
        "test_loader = data.DataLoader(test_dataset, batch_size=32, shuffle=False)"
      ],
      "metadata": {
        "id": "QqzYiqouvpfa"
      },
      "execution_count": 7,
      "outputs": []
    },
    {
      "cell_type": "code",
      "source": [
        "model = MNISTClassifier_Dropout()\n",
        "criterion = nn.CrossEntropyLoss(weight=class_weights)\n",
        "opt_bn = torch.optim.Adam(model.parameters(), lr=0.001)"
      ],
      "metadata": {
        "id": "Y-ZNFFsbvtuW"
      },
      "execution_count": 8,
      "outputs": []
    },
    {
      "cell_type": "code",
      "source": [
        "device = torch.device(\"cuda\" if torch.cuda.is_available() else \"cpu\")\n",
        "model.to(device)\n",
        "\n",
        "losses = []\n",
        "model.train()\n",
        "for epoch in range(100):\n",
        "    for x, y in train_loader:\n",
        "        x, y = x.to(device), y.to(device)\n",
        "        opt_bn.zero_grad()\n",
        "        y_pred = model(x)\n",
        "        loss = criterion(y_pred, y)\n",
        "        loss.backward()\n",
        "        opt_bn.step()\n",
        "\n",
        "    losses.append(loss.item())\n",
        "    print(f\"Epoch: {epoch}, Loss: {loss.item()}\")\n",
        "\n",
        "plt.plot(losses)\n",
        "plt.xlabel('Epoch')\n",
        "plt.ylabel('Loss')\n",
        "plt.title('Training Loss')\n",
        "plt.show()"
      ],
      "metadata": {
        "colab": {
          "base_uri": "https://localhost:8080/",
          "height": 1000
        },
        "id": "GvGVUShZvw1B",
        "outputId": "a288f5d4-784c-4972-df10-2a865f626703"
      },
      "execution_count": 9,
      "outputs": [
        {
          "output_type": "stream",
          "name": "stdout",
          "text": [
            "Epoch: 0, Loss: 0.08363047987222672\n",
            "Epoch: 1, Loss: 0.36541542410850525\n",
            "Epoch: 2, Loss: 0.09817995131015778\n",
            "Epoch: 3, Loss: 1.1942129135131836\n",
            "Epoch: 4, Loss: 0.5589646100997925\n",
            "Epoch: 5, Loss: 0.0696888267993927\n",
            "Epoch: 6, Loss: 0.08324519544839859\n",
            "Epoch: 7, Loss: 0.01778457872569561\n",
            "Epoch: 8, Loss: 0.5626266598701477\n",
            "Epoch: 9, Loss: 0.1243840754032135\n",
            "Epoch: 10, Loss: 0.4382578730583191\n",
            "Epoch: 11, Loss: 0.8732026815414429\n",
            "Epoch: 12, Loss: 0.07935421913862228\n",
            "Epoch: 13, Loss: 0.1294979602098465\n",
            "Epoch: 14, Loss: 3.6323041915893555\n",
            "Epoch: 15, Loss: 1.0266516208648682\n",
            "Epoch: 16, Loss: 3.5350804328918457\n",
            "Epoch: 17, Loss: 0.893072247505188\n",
            "Epoch: 18, Loss: 0.10062164813280106\n",
            "Epoch: 19, Loss: 4.68231725692749\n",
            "Epoch: 20, Loss: 0.7186266183853149\n",
            "Epoch: 21, Loss: 0.09357603639364243\n",
            "Epoch: 22, Loss: 0.04427984729409218\n",
            "Epoch: 23, Loss: 0.04892074689269066\n",
            "Epoch: 24, Loss: 0.36465170979499817\n",
            "Epoch: 25, Loss: 0.4990701675415039\n",
            "Epoch: 26, Loss: 0.12318745255470276\n",
            "Epoch: 27, Loss: 0.15907689929008484\n",
            "Epoch: 28, Loss: 0.035835567861795425\n",
            "Epoch: 29, Loss: 0.07201587408781052\n",
            "Epoch: 30, Loss: 0.07970500737428665\n",
            "Epoch: 31, Loss: 0.20254242420196533\n",
            "Epoch: 32, Loss: 0.27319803833961487\n",
            "Epoch: 33, Loss: 0.10117451846599579\n",
            "Epoch: 34, Loss: 8.467095375061035\n",
            "Epoch: 35, Loss: 1.5025309324264526\n",
            "Epoch: 36, Loss: 0.01023753359913826\n",
            "Epoch: 37, Loss: 5.974677085876465\n",
            "Epoch: 38, Loss: 0.556817352771759\n",
            "Epoch: 39, Loss: 3.9929959774017334\n",
            "Epoch: 40, Loss: 0.06206135451793671\n",
            "Epoch: 41, Loss: 0.2707415223121643\n",
            "Epoch: 42, Loss: 1.9416351318359375\n",
            "Epoch: 43, Loss: 3.8419787883758545\n",
            "Epoch: 44, Loss: 0.7226457595825195\n",
            "Epoch: 45, Loss: 2.5641636848449707\n",
            "Epoch: 46, Loss: 0.07538492232561111\n",
            "Epoch: 47, Loss: 4.149693489074707\n",
            "Epoch: 48, Loss: 0.13930167257785797\n",
            "Epoch: 49, Loss: 0.1384924054145813\n",
            "Epoch: 50, Loss: 5.990970611572266\n",
            "Epoch: 51, Loss: 0.5181509852409363\n",
            "Epoch: 52, Loss: 2.536505937576294\n",
            "Epoch: 53, Loss: 0.7506929636001587\n",
            "Epoch: 54, Loss: 0.027521643787622452\n",
            "Epoch: 55, Loss: 7.14860200881958\n",
            "Epoch: 56, Loss: 5.546616554260254\n",
            "Epoch: 57, Loss: 0.019941003993153572\n",
            "Epoch: 58, Loss: 0.2061002254486084\n",
            "Epoch: 59, Loss: 1.0951237678527832\n",
            "Epoch: 60, Loss: 0.3417416512966156\n",
            "Epoch: 61, Loss: 0.577887237071991\n",
            "Epoch: 62, Loss: 0.05875511094927788\n",
            "Epoch: 63, Loss: 2.5685970783233643\n",
            "Epoch: 64, Loss: 5.189785003662109\n",
            "Epoch: 65, Loss: 0.02045191265642643\n",
            "Epoch: 66, Loss: 1.3619778156280518\n",
            "Epoch: 67, Loss: 0.4841533601284027\n",
            "Epoch: 68, Loss: 0.4837108254432678\n",
            "Epoch: 69, Loss: 0.526035726070404\n",
            "Epoch: 70, Loss: 0.9804753661155701\n",
            "Epoch: 71, Loss: 0.5132767558097839\n",
            "Epoch: 72, Loss: 0.1372881680727005\n",
            "Epoch: 73, Loss: 0.03875410929322243\n",
            "Epoch: 74, Loss: 2.4380552768707275\n",
            "Epoch: 75, Loss: 0.8109285235404968\n",
            "Epoch: 76, Loss: 0.1261334866285324\n",
            "Epoch: 77, Loss: 0.2213863879442215\n",
            "Epoch: 78, Loss: 0.2607053816318512\n",
            "Epoch: 79, Loss: 0.13409961760044098\n",
            "Epoch: 80, Loss: 4.31215763092041\n",
            "Epoch: 81, Loss: 0.2378256916999817\n",
            "Epoch: 82, Loss: 0.052530162036418915\n",
            "Epoch: 83, Loss: 0.3227766156196594\n",
            "Epoch: 84, Loss: 0.09334054589271545\n",
            "Epoch: 85, Loss: 0.27150511741638184\n",
            "Epoch: 86, Loss: 0.1528422087430954\n",
            "Epoch: 87, Loss: 0.044611766934394836\n",
            "Epoch: 88, Loss: 0.30608367919921875\n",
            "Epoch: 89, Loss: 0.04628995805978775\n",
            "Epoch: 90, Loss: 6.878603935241699\n",
            "Epoch: 91, Loss: 0.30660003423690796\n",
            "Epoch: 92, Loss: 0.3455843925476074\n",
            "Epoch: 93, Loss: 0.06969150900840759\n",
            "Epoch: 94, Loss: 0.03185137361288071\n",
            "Epoch: 95, Loss: 0.6195847988128662\n",
            "Epoch: 96, Loss: 2.8030502796173096\n",
            "Epoch: 97, Loss: 0.031037408858537674\n",
            "Epoch: 98, Loss: 0.03811265528202057\n",
            "Epoch: 99, Loss: 0.21669653058052063\n"
          ]
        },
        {
          "output_type": "display_data",
          "data": {
            "text/plain": [
              "<Figure size 640x480 with 1 Axes>"
            ],
            "image/png": "[encoded data removed]"
          },
          "metadata": {}
        }
      ]
    },
    {
      "cell_type": "code",
      "execution_count": 10,
      "metadata": {
        "colab": {
          "base_uri": "https://localhost:8080/"
        },
        "id": "Wwf5mmnTu30G",
        "outputId": "6f0334ec-2011-4619-c10c-631ff6fb548b"
      },
      "outputs": [
        {
          "output_type": "stream",
          "name": "stdout",
          "text": [
            "Classification accuracy: 73.58%\n"
          ]
        }
      ],
      "source": [
        "model.eval()\n",
        "y_pred_list = []\n",
        "y_true_list = []\n",
        "\n",
        "with torch.no_grad():\n",
        "    for x, y in test_loader:\n",
        "        x, y = x.to(device), y.to(device)\n",
        "        y_pred = model(x)\n",
        "        y_pred_classes = torch.argmax(y_pred, dim=1)\n",
        "\n",
        "        y_pred_list.extend(y_pred_classes.cpu().numpy().tolist())\n",
        "        y_true_list.extend(y.cpu().numpy().tolist())\n",
        "\n",
        "correct_predictions = sum([1 for i in range(len(y_pred_list)) if y_pred_list[i] == y_true_list[i]])\n",
        "accuracy = (correct_predictions / len(y_pred_list)) * 100\n",
        "\n",
        "print(f\"Classification accuracy: {accuracy:.2f}%\")\n"
      ]
    }
  ]
}