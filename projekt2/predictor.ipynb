{
  "nbformat": 4,
  "nbformat_minor": 0,
  "metadata": {
    "colab": {
      "provenance": [],
      "authorship_tag": "ABX9TyM4MnwF1AHrJN5XMXxSRPel",
      "include_colab_link": true
    },
    "kernelspec": {
      "name": "python3",
      "display_name": "Python 3"
    },
    "language_info": {
      "name": "python"
    }
  },
  "cells": [
    {
      "cell_type": "markdown",
      "metadata": {
        "id": "view-in-github",
        "colab_type": "text"
      },
      "source": [
        "<a href=\"https://colab.research.google.com/github/czarodziejszyn/ssne/blob/main/projekt2/predictor.ipynb\" target=\"_parent\"><img src=\"https://colab.research.google.com/assets/colab-badge.svg\" alt=\"Open In Colab\"/></a>"
      ]
    },
    {
      "cell_type": "code",
      "execution_count": 7,
      "metadata": {
        "id": "EQFvBrE0_-T7"
      },
      "outputs": [],
      "source": [
        "import torch.nn as nn\n",
        "import pandas as pd\n",
        "import torch.utils.data as data\n",
        "from sklearn.preprocessing import OneHotEncoder, LabelEncoder"
      ]
    },
    {
      "cell_type": "code",
      "source": [
        "class MyNetBN(nn.Module):\n",
        "    def __init__(self):\n",
        "        super(MyNetBN, self).__init__()\n",
        "        self.lin1 =nn.Linear(9, 48)  # 28 x 28 = 784\n",
        "        self.bn1 = nn.BatchNorm1d(48)\n",
        "        self.act1 =nn.ReLU()\n",
        "        self.lin2 =nn.Linear(48, 24)\n",
        "        self.bn2 = nn.BatchNorm1d(24)\n",
        "        self.act2 =nn.ReLU()\n",
        "        self.lin3 =nn.Linear(24, 1)\n",
        "\n",
        "\n",
        "    def forward(self, x):\n",
        "        x = self.lin1(x)\n",
        "        x = self.bn1(x)\n",
        "        x = self.act1(x)\n",
        "        x = self.lin2(x)\n",
        "        x = self.bn2(x)\n",
        "        x = self.act2(x)\n",
        "        x = self.lin3(x)\n",
        "        return x"
      ],
      "metadata": {
        "id": "GL2CwfJmS82A"
      },
      "execution_count": 2,
      "outputs": []
    },
    {
      "cell_type": "code",
      "source": [
        "train_data = pd.read_csv('train_data.csv')"
      ],
      "metadata": {
        "id": "d12tvDB5T3El"
      },
      "execution_count": 6,
      "outputs": []
    },
    {
      "cell_type": "code",
      "source": [
        "num_cols = ['SalePrice', 'YearBuilt', 'Size(sqf)', 'Floor',\n",
        "            'N_Parkinglot(Ground)', 'N_Parkinglot(Basement)', 'N_manager',\n",
        "            'N_elevators', 'N_FacilitiesNearBy(Total)', 'N_SchoolNearBy(Total)']\n",
        "cat_cols = ['HallwayType', 'HeatingType', 'AptManageType', 'TimeToBusStop',\n",
        "            'TimeToSubway', 'SubwayStation']\n",
        "\n",
        "ohe_cols = ['HallwayType', 'HeatingType', 'AptManageType', 'SubwayStation']\n",
        "df = pd.get_dummies(train_data, columns=ohe_cols)\n",
        "\n",
        "le = LabelEncoder()\n",
        "df['TimeToBusStop'] = le.fit_transform(df['TimeToBusStop'])\n",
        "df['TimeToSubway'] = le.fit_transform(df['TimeToSubway'])"
      ],
      "metadata": {
        "id": "K4Uc3mcIU1fq"
      },
      "execution_count": 9,
      "outputs": []
    },
    {
      "cell_type": "code",
      "source": [
        "test_data = pd.read_csv('test_data.csv')"
      ],
      "metadata": {
        "id": "iT70AYl7Ue96"
      },
      "execution_count": null,
      "outputs": []
    }
  ]
}